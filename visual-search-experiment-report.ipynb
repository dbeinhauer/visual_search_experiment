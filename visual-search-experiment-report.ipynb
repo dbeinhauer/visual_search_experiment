{
 "cells": [
  {
   "cell_type": "raw",
   "id": "c98547ec-fd9c-4d85-a832-0e95a93d60d4",
   "metadata": {},
   "source": [
    "title: \"Informatics and Cognitive Science 1 - Visual Search Experiment Report\"\n",
    "author: David Beinhauer\n",
    "date: \"{{ datetime.now().strftime('%Y-%m-%d') }}\"\n",
    "output:\n",
    "    html:\n",
    "        toc: true\n",
    "        theme: sandstone"
   ]
  },
  {
   "cell_type": "markdown",
   "id": "9c221af4-bf86-41b0-a354-d141a177f5cc",
   "metadata": {},
   "source": [
    "# Introduction\n",
    "\n",
    "Visual search is the common task of looking for something in a cluttered visual environment. The searched item is usually called the target, other non-target items are\n",
    "called distractors. Many visual scenes contain more information than we can fully process all at once. This is the moment when the visual attention is essential. It is used to control the selection of the recognized objects. This selection could consist of objects, small groups of objects or even an array of locations. The selection periodicaly changes and usually consists of four to eight objects. \n",
    "\n",
    "The so called overt search refers to a series of eye movements around the scene made to bring the whole difficult-to-resolve item onto the fovea. On the other hand, if it is possible to identify the object during fixation the attention on a single point, the so called covert search happens (attentional shifts during a single fixation). Under dynamic real world conditions a new point of fixation is selected three to four times per second. However, under laboratory conditions, many search can be performed entirely with covert attention. \n",
    "\n",
    "The visual search experiment is a psychlological experiment used to analyze and study how the human visual search reacts on the specific stimuli in the visual scene. The experiment typicaly involves presenting a visual stimuli to a participant (picture, computer screen etc.). The stimuli typicaly contains number of objects. The participants are then asked to search for a specic target among the distractors (such as pink front slash as in our example). The researchers typicaly studied the effect of set size, target presence and homogeneity of the feature set on the accuracy and speed of the response."
   ]
  },
  {
   "cell_type": "markdown",
   "id": "eaba22d9-10d4-4810-a4a4-ceff9167c19c",
   "metadata": {},
   "source": [
    "# Experiment Description\n",
    "\n",
    "During the experiment we studied how the reaction time and accuracy of the responses of the respondents differ under different visual stimuli. \n",
    "\n",
    "The experiment consists of 300 trials. In each trial the participants is shown an image containing a set of back and front slashes (`\\` or `/`). The participants are instructed to search for the pink front slash symbol (`/`) and decide whether it is present in the image (press `F` button on keyboard) or absent (`J` button). The participants are encouraged to correctly respond as quickly as possible. They are provided with feedback on accuracy and whether their response was quick enough. The trials are divided into 16 variants each with 20 members. The variants are randomly distributed through the dataset. Each variant is specified by three conditions. The first condition is whether the target is present (`target` column in the  pre-processed dataset). The second is number of objects in the image (`size` column), possible sizes are 10, 20, 30 and 40 objects. The last condition is search type (`conjuction` column) with values `False` (feature search), image contains only pink symbols, or `False` (conjunction), image contains both pink and blue symbols in both orientations. The estimated experiment duration is approximately 15-20 minutes.\n",
    "\n",
    "We recruited $N=3$ participants for the study. All the participants consisted of university male students in age range 22-23 years. The participants were seated in from of the notebook with 15.6 inch display with resolution 1920x1080 in a calm room. Then they were instructed to make themselves comfortable and turn off the notifications of their mobile phones. Afterwards, they were instructed about the experiment and performed the experiment. None of the participants did not need train trials or break. Participants were fully concentrated during the whole experiment, so we decided persist all the data.\n",
    "\n",
    "The code blocks below sets up the environment for the work, defines functions for parsing the data from the original `.csv` files and loads the whole dataset."
   ]
  },
  {
   "cell_type": "code",
   "execution_count": 1,
   "id": "26209ca6-0680-4b78-aecf-9566655e056d",
   "metadata": {},
   "outputs": [],
   "source": [
    "# Import all the necessary libraries\n",
    "from pathlib import Path\n",
    "from typing import Union\n",
    "\n",
    "import numpy as np\n",
    "import pandas as pd\n",
    "import seaborn as sns\n",
    "import statsmodels.api as sm\n",
    "import matplotlib.pyplot as plt"
   ]
  },
  {
   "cell_type": "code",
   "execution_count": 2,
   "id": "e5d6e29c-cf2b-43f5-a04a-4ce7ee7ca0fc",
   "metadata": {
    "tags": []
   },
   "outputs": [],
   "source": [
    "%matplotlib inline\n",
    "# should enable plotting without explicit call .show()\n",
    "\n",
    "# For html page generation.\n",
    "%load_ext pretty_jupyter"
   ]
  },
  {
   "cell_type": "code",
   "execution_count": 3,
   "id": "4f794336-2091-43f5-8e8e-e227487269e5",
   "metadata": {},
   "outputs": [],
   "source": [
    "def parse_data(data_path: Union[str, Path]) -> pd.DataFrame:\n",
    "    \"\"\"\n",
    "    Parses the data from the given participant, sets new column with participant \n",
    "    ID and extracts only the necessary data from the dataset.\n",
    "    \"\"\"\n",
    "    \n",
    "    # Get participant ID\n",
    "    participant = data_path.stem.split(\"_\")[1]\n",
    "    \n",
    "    # Read the load the csv file.\n",
    "    df = pd.read_csv(data_path)\n",
    "    \n",
    "    # Get only rows with the response data.\n",
    "    df = df[df.trial_type == \"canvas-keyboard-response\"]\n",
    "    \n",
    "    # Rename the columns for the future usage.\n",
    "    df = df.rename(\n",
    "            {\n",
    "                \"rt\": \"response_time\",\n",
    "                \"trial_index\": \"trial\",\n",
    "                \"present\": \"target_present\",\n",
    "                \"setSize\": \"size\",\n",
    "                \"conjuction\": \"conjuction\",\n",
    "                \"correct\": \"correct\",\n",
    "            },\n",
    "            axis = 1\n",
    "        )\n",
    "    \n",
    "    # Get only usefull columns.\n",
    "    df = df\\\n",
    "        [\n",
    "            [\n",
    "                \"response_time\",\n",
    "                \"trial\",\n",
    "                \"target_present\",\n",
    "                \"size\",\n",
    "                \"conjuction\",\n",
    "                \"correct\",\n",
    "            ]\n",
    "        ]\n",
    "    \n",
    "    # Add participant ID to data.\n",
    "    orig_cols = df.columns.to_list()\n",
    "    new_cols = {\n",
    "        \"participant\": participant,\n",
    "    }\n",
    "    df = df.assign(**new_cols)\n",
    "    df = df[[\"participant\"] + orig_cols]\n",
    "\n",
    "    # Define parameters types.\n",
    "    df.astype(\n",
    "        {\n",
    "            \"participant\": str,\n",
    "            \"response_time\": int,\n",
    "            \"trial\": int,\n",
    "            \"target_present\": bool,\n",
    "            \"size\": int,\n",
    "            \"conjuction\": bool,\n",
    "            \"correct\": bool,\n",
    "        }\n",
    "    )\n",
    "\n",
    "    return df.sort_values(by=\"trial\")"
   ]
  },
  {
   "cell_type": "code",
   "execution_count": 4,
   "id": "37085086-a34e-42c6-93fe-a6c0685461ec",
   "metadata": {
    "tags": []
   },
   "outputs": [],
   "source": [
    "def load_data(\n",
    "        data_dir=\"data\",\n",
    "    ):\n",
    "    \n",
    "    \"\"\"\n",
    "    Loads the data from all the participants stored in the shared directory \n",
    "    in `.csv` files with filenames `ex_{participant_number}.csv`.\n",
    "    \"\"\"\n",
    "    \n",
    "    selected_files = (Path.cwd() / data_dir).glob(\"*.csv\")\n",
    "\n",
    "    return pd.concat((parse_data(f) for f in selected_files))"
   ]
  },
  {
   "cell_type": "code",
   "execution_count": 5,
   "id": "7f35999b-460e-4f8f-832e-8998844e00d3",
   "metadata": {},
   "outputs": [],
   "source": [
    "# Load the data from the participants:\n",
    "exp_data = load_data()"
   ]
  },
  {
   "cell_type": "code",
   "execution_count": 6,
   "id": "2ab390ac-1f41-4f4d-8422-5480906e44ff",
   "metadata": {
    "tags": []
   },
   "outputs": [
    {
     "data": {
      "text/html": [
       "<div>\n",
       "<style scoped>\n",
       "    .dataframe tbody tr th:only-of-type {\n",
       "        vertical-align: middle;\n",
       "    }\n",
       "\n",
       "    .dataframe tbody tr th {\n",
       "        vertical-align: top;\n",
       "    }\n",
       "\n",
       "    .dataframe thead th {\n",
       "        text-align: right;\n",
       "    }\n",
       "</style>\n",
       "<table border=\"1\" class=\"dataframe\">\n",
       "  <thead>\n",
       "    <tr style=\"text-align: right;\">\n",
       "      <th></th>\n",
       "      <th>participant</th>\n",
       "      <th>response_time</th>\n",
       "      <th>trial</th>\n",
       "      <th>target_present</th>\n",
       "      <th>size</th>\n",
       "      <th>conjuction</th>\n",
       "      <th>correct</th>\n",
       "    </tr>\n",
       "  </thead>\n",
       "  <tbody>\n",
       "    <tr>\n",
       "      <th>1</th>\n",
       "      <td>1</td>\n",
       "      <td>4872.0</td>\n",
       "      <td>1</td>\n",
       "      <td>False</td>\n",
       "      <td>30.0</td>\n",
       "      <td>False</td>\n",
       "      <td>True</td>\n",
       "    </tr>\n",
       "    <tr>\n",
       "      <th>3</th>\n",
       "      <td>1</td>\n",
       "      <td>1260.0</td>\n",
       "      <td>3</td>\n",
       "      <td>False</td>\n",
       "      <td>20.0</td>\n",
       "      <td>True</td>\n",
       "      <td>True</td>\n",
       "    </tr>\n",
       "    <tr>\n",
       "      <th>5</th>\n",
       "      <td>1</td>\n",
       "      <td>734.0</td>\n",
       "      <td>5</td>\n",
       "      <td>True</td>\n",
       "      <td>40.0</td>\n",
       "      <td>False</td>\n",
       "      <td>True</td>\n",
       "    </tr>\n",
       "    <tr>\n",
       "      <th>7</th>\n",
       "      <td>1</td>\n",
       "      <td>2710.0</td>\n",
       "      <td>7</td>\n",
       "      <td>False</td>\n",
       "      <td>30.0</td>\n",
       "      <td>True</td>\n",
       "      <td>True</td>\n",
       "    </tr>\n",
       "    <tr>\n",
       "      <th>9</th>\n",
       "      <td>1</td>\n",
       "      <td>845.0</td>\n",
       "      <td>9</td>\n",
       "      <td>True</td>\n",
       "      <td>10.0</td>\n",
       "      <td>True</td>\n",
       "      <td>True</td>\n",
       "    </tr>\n",
       "  </tbody>\n",
       "</table>\n",
       "</div>"
      ],
      "text/plain": [
       "  participant  response_time  trial target_present  size conjuction correct\n",
       "1           1         4872.0      1          False  30.0      False    True\n",
       "3           1         1260.0      3          False  20.0       True    True\n",
       "5           1          734.0      5           True  40.0      False    True\n",
       "7           1         2710.0      7          False  30.0       True    True\n",
       "9           1          845.0      9           True  10.0       True    True"
      ]
     },
     "execution_count": 6,
     "metadata": {},
     "output_type": "execute_result"
    }
   ],
   "source": [
    "# Show the first lines of the loaded dataset.\n",
    "exp_data.head()"
   ]
  },
  {
   "cell_type": "markdown",
   "id": "dee6e401-16b6-4628-a98f-a0bdbabde4b0",
   "metadata": {},
   "source": [
    "# Results\n",
    "\n",
    "First, we compute the accuracy of the respondents. Based on the results we can say that the accuracies of the participants were quite different. This fact might be caused by different level of concentration of the respondents or different strategies, how to solve the problem (some respondents might be faster, but less accurate than others). We should consider this fact in the future analyses, because it may have significant infuence in the other results. \n",
    "\n",
    "The code and results of the computation of the accuracies can be found below in the following code blocks.  "
   ]
  },
  {
   "cell_type": "code",
   "execution_count": 7,
   "id": "bdf21975-5d1f-4a18-9d10-7c0b34d64323",
   "metadata": {
    "tags": []
   },
   "outputs": [],
   "source": [
    "# Compute the accuracy of the participants.\n",
    "accuracy_data = exp_data.groupby(\"participant\")\\\n",
    "    .agg(accuracy=(\"correct\", 'mean'))\\\n",
    "    .round(decimals=3)\\\n",
    "    .reset_index()"
   ]
  },
  {
   "cell_type": "code",
   "execution_count": 8,
   "id": "ac253618-4bde-40ce-befc-0d46aede607e",
   "metadata": {
    "tags": []
   },
   "outputs": [
    {
     "data": {
      "text/html": [
       "<div>\n",
       "<style scoped>\n",
       "    .dataframe tbody tr th:only-of-type {\n",
       "        vertical-align: middle;\n",
       "    }\n",
       "\n",
       "    .dataframe tbody tr th {\n",
       "        vertical-align: top;\n",
       "    }\n",
       "\n",
       "    .dataframe thead th {\n",
       "        text-align: right;\n",
       "    }\n",
       "</style>\n",
       "<table border=\"1\" class=\"dataframe\">\n",
       "  <thead>\n",
       "    <tr style=\"text-align: right;\">\n",
       "      <th></th>\n",
       "      <th>participant</th>\n",
       "      <th>accuracy</th>\n",
       "    </tr>\n",
       "  </thead>\n",
       "  <tbody>\n",
       "    <tr>\n",
       "      <th>0</th>\n",
       "      <td>1</td>\n",
       "      <td>0.925</td>\n",
       "    </tr>\n",
       "    <tr>\n",
       "      <th>1</th>\n",
       "      <td>2</td>\n",
       "      <td>0.997</td>\n",
       "    </tr>\n",
       "    <tr>\n",
       "      <th>2</th>\n",
       "      <td>3</td>\n",
       "      <td>0.969</td>\n",
       "    </tr>\n",
       "  </tbody>\n",
       "</table>\n",
       "</div>"
      ],
      "text/plain": [
       "  participant  accuracy\n",
       "0           1     0.925\n",
       "1           2     0.997\n",
       "2           3     0.969"
      ]
     },
     "execution_count": 8,
     "metadata": {},
     "output_type": "execute_result"
    }
   ],
   "source": [
    "# Print the table of accuracies for the participants.\n",
    "accuracy_data"
   ]
  },
  {
   "cell_type": "markdown",
   "id": "fa8dde92-5c05-499c-b757-47aa4a4de095",
   "metadata": {},
   "source": [
    "For the subsequent analyses, we remove the error trials."
   ]
  },
  {
   "cell_type": "code",
   "execution_count": 9,
   "id": "446da30e-c59c-4286-a264-fb05a62499f6",
   "metadata": {
    "tags": []
   },
   "outputs": [],
   "source": [
    "# Get only trials with correct response.\n",
    "correct_results = exp_data[exp_data.correct]"
   ]
  },
  {
   "cell_type": "code",
   "execution_count": 10,
   "id": "4258b033-f337-4260-89ef-f6378bbc21c7",
   "metadata": {
    "tags": []
   },
   "outputs": [
    {
     "data": {
      "text/html": [
       "<div>\n",
       "<style scoped>\n",
       "    .dataframe tbody tr th:only-of-type {\n",
       "        vertical-align: middle;\n",
       "    }\n",
       "\n",
       "    .dataframe tbody tr th {\n",
       "        vertical-align: top;\n",
       "    }\n",
       "\n",
       "    .dataframe thead th {\n",
       "        text-align: right;\n",
       "    }\n",
       "</style>\n",
       "<table border=\"1\" class=\"dataframe\">\n",
       "  <thead>\n",
       "    <tr style=\"text-align: right;\">\n",
       "      <th></th>\n",
       "      <th>participant</th>\n",
       "      <th>response_time</th>\n",
       "      <th>trial</th>\n",
       "      <th>target_present</th>\n",
       "      <th>size</th>\n",
       "      <th>conjuction</th>\n",
       "      <th>correct</th>\n",
       "    </tr>\n",
       "  </thead>\n",
       "  <tbody>\n",
       "    <tr>\n",
       "      <th>1</th>\n",
       "      <td>1</td>\n",
       "      <td>4872.0</td>\n",
       "      <td>1</td>\n",
       "      <td>False</td>\n",
       "      <td>30.0</td>\n",
       "      <td>False</td>\n",
       "      <td>True</td>\n",
       "    </tr>\n",
       "    <tr>\n",
       "      <th>3</th>\n",
       "      <td>1</td>\n",
       "      <td>1260.0</td>\n",
       "      <td>3</td>\n",
       "      <td>False</td>\n",
       "      <td>20.0</td>\n",
       "      <td>True</td>\n",
       "      <td>True</td>\n",
       "    </tr>\n",
       "    <tr>\n",
       "      <th>5</th>\n",
       "      <td>1</td>\n",
       "      <td>734.0</td>\n",
       "      <td>5</td>\n",
       "      <td>True</td>\n",
       "      <td>40.0</td>\n",
       "      <td>False</td>\n",
       "      <td>True</td>\n",
       "    </tr>\n",
       "    <tr>\n",
       "      <th>7</th>\n",
       "      <td>1</td>\n",
       "      <td>2710.0</td>\n",
       "      <td>7</td>\n",
       "      <td>False</td>\n",
       "      <td>30.0</td>\n",
       "      <td>True</td>\n",
       "      <td>True</td>\n",
       "    </tr>\n",
       "    <tr>\n",
       "      <th>9</th>\n",
       "      <td>1</td>\n",
       "      <td>845.0</td>\n",
       "      <td>9</td>\n",
       "      <td>True</td>\n",
       "      <td>10.0</td>\n",
       "      <td>True</td>\n",
       "      <td>True</td>\n",
       "    </tr>\n",
       "  </tbody>\n",
       "</table>\n",
       "</div>"
      ],
      "text/plain": [
       "  participant  response_time  trial target_present  size conjuction correct\n",
       "1           1         4872.0      1          False  30.0      False    True\n",
       "3           1         1260.0      3          False  20.0       True    True\n",
       "5           1          734.0      5           True  40.0      False    True\n",
       "7           1         2710.0      7          False  30.0       True    True\n",
       "9           1          845.0      9           True  10.0       True    True"
      ]
     },
     "execution_count": 10,
     "metadata": {},
     "output_type": "execute_result"
    }
   ],
   "source": [
    "# Show first items of the dataset without erroneous trials.\n",
    "correct_results.head()"
   ]
  },
  {
   "cell_type": "markdown",
   "id": "13bb360e-ec8c-4a91-8871-871055d16763",
   "metadata": {},
   "source": [
    "As the next step of the analysis we plot the distributions of the reaction times by set size, participant and eventually by the search type (`conjunction` or `feature` search)."
   ]
  },
  {
   "cell_type": "code",
   "execution_count": 11,
   "id": "95536cc3-ee54-4a3f-80d2-7942b78dedd5",
   "metadata": {
    "tags": []
   },
   "outputs": [],
   "source": [
    "def plot_reaction_times(\n",
    "        data: pd.DataFrame,\n",
    "        title_str: str=\"Reaction times of participants by set size\",\n",
    "        x_size=None, # To have the x axis in the same scale for the subsets.\n",
    "    ):\n",
    "    \"\"\"\n",
    "    Plots reaction times for all participants and number of objects in the picture.\n",
    "    \n",
    "    Arguments:\n",
    "        `data`: Selected data.\n",
    "        `title_str`: Title of the plot.\n",
    "        `x_size`: Upper bound of the x axis (`None` - default). Used to maintain the same scale for subsets.\n",
    "    \"\"\"\n",
    "    \n",
    "    # Sort the data by `participant` and `size` to be in correct order for ploting.\n",
    "    hlp = data.copy().sort_values(by=[\"participant\", \"size\"])\n",
    "\n",
    "    hlp[\"size\"] = hlp[\"size\"].astype(str)\n",
    "\n",
    "    g = sns.catplot(\n",
    "        data=hlp, \n",
    "        x=\"response_time\",\n",
    "        y=\"size\",\n",
    "        hue='participant',\n",
    "        kind='box',\n",
    "        aspect=2,\n",
    "    )\n",
    "    \n",
    "    g.ax.xaxis.grid(True)\n",
    "    g.set_xlabels(\"Reaction time (ms)\")\n",
    "    g.set_ylabels(\"Set size\")\n",
    "    g.set(title=title_str);\n",
    "    \n",
    "    # If specified -> set right `xlim`.\n",
    "    if x_size != None:\n",
    "        g.set(xlim=(0, x_size))"
   ]
  },
  {
   "cell_type": "markdown",
   "id": "28636564-19f1-42f4-8254-6f17fdf318bb",
   "metadata": {},
   "source": [
    "First, we look at the distribution of the response time for the whole dataset. We can see that both the mean reaction time ant its variance grew with set size in the most cases for the all participants. From these results we can see that the response time of the participant `3` is mostly shorther than for the other participants.\n",
    "\n",
    "The distributions mentioned in this paragraph can be seen below."
   ]
  },
  {
   "cell_type": "code",
   "execution_count": 12,
   "id": "59cd09a3-7655-4960-9848-20bded56ec21",
   "metadata": {
    "tags": []
   },
   "outputs": [
    {
     "data": {
      "image/png": "[encoded data removed]",
      "text/plain": [
       "<Figure size 1086.99x500 with 1 Axes>"
      ]
     },
     "metadata": {},
     "output_type": "display_data"
    }
   ],
   "source": [
    "# Plot reaction times for the whole data.\n",
    "plot_reaction_times(correct_results)"
   ]
  },
  {
   "cell_type": "markdown",
   "id": "69b31494-1bf4-410a-8688-c266bcff9dde",
   "metadata": {},
   "source": [
    "For the deeper understanding of the reaction times we also display the distribution for only `conjunction` search and `feature` search. There, we can see the significant difference in mean response time between the different search type with higher mean response time for `conjunction` task in the majority of results. \n",
    "\n",
    "In the `feature` search we can see the interesting phenomenom for the respondent `1`. The respondent's response time almost was not affected by the set size. Furthermore, it was excessively fast in comparison to other respondents. This phenomenon could be the result of the relatively small accuracy of the respondent `1`. The respondent might try to answer as faster as he can which may lead to worse accuracy. He may be, for example, over motivated by the application feedback. On the other hand reaction times for the participant `2` are in the most cases the highest, but he also have the highest accuracy, which may be the indicator of the different strategies how to approach the task.\n",
    "\n",
    "It is also noteworthy that the participant `3` seemingly was not affected by the search type task as he performed almost the same in the `conjunction` and `feature` search tasks.\n",
    "\n",
    "The distributions mentioned in this part of the text could be found in the following code blocks."
   ]
  },
  {
   "cell_type": "code",
   "execution_count": 13,
   "id": "5f29bec5-e53d-4460-af90-1625628020e3",
   "metadata": {
    "tags": []
   },
   "outputs": [
    {
     "data": {
      "image/png": "[encoded data removed]",
      "text/plain": [
       "<Figure size 1086.99x500 with 1 Axes>"
      ]
     },
     "metadata": {},
     "output_type": "display_data"
    },
    {
     "data": {
      "image/png": "[encoded data removed]",
      "text/plain": [
       "<Figure size 1086.99x500 with 1 Axes>"
      ]
     },
     "metadata": {},
     "output_type": "display_data"
    }
   ],
   "source": [
    "# Plot reaction times for only `conjunction` and `feature` search.\n",
    "cf_task = lambda x: 'conjunction' if x else 'feature'\n",
    "\n",
    "for is_conjuction in [True, False]:\n",
    "    plot_reaction_times(\n",
    "            correct_results[correct_results['conjuction'] == is_conjuction],\n",
    "            title_str=f\"Reaction times of participants for '{cf_task(is_conjuction)}' search by set size\",\n",
    "            x_size=correct_results[\"response_time\"].max() + 200,\n",
    "        )"
   ]
  },
  {
   "cell_type": "markdown",
   "id": "6855d584-fbf2-41fe-b603-8065754f813c",
   "metadata": {},
   "source": [
    "Next, we will focus more on the relation of the reaction time and set size. We compute the regression slopes for set size and reaction time. We report the slope and its 95% confidence interval for both feature and conjunction search and for trials with target and without the target.\n",
    "\n",
    "It is noteworthy that the slope is significantly smaller for the `feature` search in comparison to `conjunction` search for almost all participants. The only exemption is the participant `3`, whose performance was almost identical in both task types.\n",
    "\n",
    "In case of the target presence we can see significantly smaller slopes for the trials with the target than for the non-target trials for the all participants.\n",
    "\n",
    "The code for the computation of the regresion slope and results are shown in the code blocks below."
   ]
  },
  {
   "cell_type": "code",
   "execution_count": 14,
   "id": "a142ec7e-3013-4d3c-aa23-e201cc44b291",
   "metadata": {
    "tags": []
   },
   "outputs": [],
   "source": [
    "def perform_regresion(\n",
    "        data: pd.DataFrame,\n",
    "        conf_interval=.05,\n",
    "    ):\n",
    "    \"\"\"\n",
    "    Computes the regresion slope.\n",
    "    \n",
    "    Returns: regresion_slope, lower_confidence_interval, upper_confidence_interval \n",
    "    \"\"\"\n",
    "    \n",
    "    sizes = data['size']\n",
    "    response_times = data['response_time']\n",
    "    \n",
    "    # Regresion slope calculation.\n",
    "    model = sm.OLS(response_times, sm.add_constant(sizes)).fit()\n",
    "\n",
    "    # Confidence interval calculation.\n",
    "    cfi = model.conf_int(alpha=conf_interval)\n",
    "    \n",
    "    return model.params[1], cfi[0][1], cfi[1][1]"
   ]
  },
  {
   "cell_type": "code",
   "execution_count": 15,
   "id": "e23231aa-64ce-4a1c-88df-82f9066d72a4",
   "metadata": {
    "tags": []
   },
   "outputs": [],
   "source": [
    "participants = correct_results.participant.unique()\n",
    "\n",
    "\n",
    "# Result structure for different search type data. \n",
    "regresion_results_conj = pd.DataFrame(\n",
    "    columns=[\n",
    "            \"participant\",\n",
    "            \"conjunction\",\n",
    "            \"size_slope\",\n",
    "            \"conf_int_lower\",\n",
    "            \"conf_int_upper\",\n",
    "        ]\n",
    "    )\n",
    "\n",
    "for participant in participants:\n",
    "    for is_conjunction in [True, False]:\n",
    "        subset = correct_results[\n",
    "                (correct_results.participant == participant) &\n",
    "                (correct_results.conjuction == is_conjunction)\n",
    "            ]\n",
    "        \n",
    "        reg_slope, conf_low, conf_up = perform_regresion(subset)\n",
    "        tmp = pd.DataFrame(\n",
    "                [\n",
    "                    [\n",
    "                        participant,\n",
    "                        # Convert the `bool` variables to `int` to get rid of warning.\n",
    "                        int(is_conjunction),\n",
    "                        reg_slope,\n",
    "                        conf_low,\n",
    "                        conf_up,\n",
    "                    ]\n",
    "                ], \n",
    "                columns=regresion_results_conj.columns\n",
    "            )\n",
    "\n",
    "        regresion_results_conj = pd.concat([regresion_results_conj, tmp], ignore_index=True)"
   ]
  },
  {
   "cell_type": "code",
   "execution_count": 16,
   "id": "26dcf819-d18f-4b8c-b2b4-75cfdbe8927a",
   "metadata": {
    "tags": []
   },
   "outputs": [],
   "source": [
    "participants = correct_results.participant.unique()\n",
    "\n",
    "\n",
    "\n",
    "# Result structure for different target presence data.\n",
    "regresion_results_target = pd.DataFrame(\n",
    "    columns=[\n",
    "            \"participant\",\n",
    "            \"target_present\",\n",
    "            \"size_slope\",\n",
    "            \"conf_int_lower\",\n",
    "            \"conf_int_upper\",\n",
    "        ]\n",
    "    )\n",
    "\n",
    "# Iterate through all participants.\n",
    "for participant in participants:\n",
    "    for is_target_present in [True, False]:\n",
    "        subset = correct_results[\n",
    "                (correct_results.participant == participant) &\n",
    "                (correct_results.target_present == is_target_present)\n",
    "            ]\n",
    "        \n",
    "        reg_slope, conf_low, conf_up = perform_regresion(subset)\n",
    "        tmp = pd.DataFrame(\n",
    "                [\n",
    "                    [\n",
    "                        participant,\n",
    "                        # Convert the `bool` variables to `int` to get rid of warning.\n",
    "                        int(is_target_present),\n",
    "                        reg_slope,\n",
    "                        conf_low,\n",
    "                        conf_up,\n",
    "                    ]\n",
    "                ], \n",
    "                columns=regresion_results_target.columns\n",
    "            )\n",
    "        \n",
    "        regresion_results_target = pd.concat([regresion_results_target, tmp], ignore_index=True)\n",
    "        "
   ]
  },
  {
   "cell_type": "code",
   "execution_count": 17,
   "id": "32bbf362-2cff-45eb-b7c4-04710df641d9",
   "metadata": {
    "tags": []
   },
   "outputs": [],
   "source": [
    "# Return proper variables back to `bool`.\n",
    "regresion_results_conj[\"conjunction\"] = regresion_results_conj[\"conjunction\"].astype(bool)\n",
    "regresion_results_target[\"target_present\"] = regresion_results_target[\"target_present\"].astype(bool)"
   ]
  },
  {
   "cell_type": "code",
   "execution_count": 18,
   "id": "ad5a98e1-2c20-4b78-9289-030305d219bb",
   "metadata": {
    "tags": []
   },
   "outputs": [
    {
     "data": {
      "text/html": [
       "<div>\n",
       "<style scoped>\n",
       "    .dataframe tbody tr th:only-of-type {\n",
       "        vertical-align: middle;\n",
       "    }\n",
       "\n",
       "    .dataframe tbody tr th {\n",
       "        vertical-align: top;\n",
       "    }\n",
       "\n",
       "    .dataframe thead th {\n",
       "        text-align: right;\n",
       "    }\n",
       "</style>\n",
       "<table border=\"1\" class=\"dataframe\">\n",
       "  <thead>\n",
       "    <tr style=\"text-align: right;\">\n",
       "      <th></th>\n",
       "      <th>participant</th>\n",
       "      <th>conjunction</th>\n",
       "      <th>size_slope</th>\n",
       "      <th>conf_int_lower</th>\n",
       "      <th>conf_int_upper</th>\n",
       "    </tr>\n",
       "  </thead>\n",
       "  <tbody>\n",
       "    <tr>\n",
       "      <th>0</th>\n",
       "      <td>1</td>\n",
       "      <td>True</td>\n",
       "      <td>22.918066</td>\n",
       "      <td>16.653456</td>\n",
       "      <td>29.182675</td>\n",
       "    </tr>\n",
       "    <tr>\n",
       "      <th>1</th>\n",
       "      <td>1</td>\n",
       "      <td>False</td>\n",
       "      <td>1.547780</td>\n",
       "      <td>-4.378091</td>\n",
       "      <td>7.473651</td>\n",
       "    </tr>\n",
       "    <tr>\n",
       "      <th>2</th>\n",
       "      <td>2</td>\n",
       "      <td>True</td>\n",
       "      <td>18.272384</td>\n",
       "      <td>10.473917</td>\n",
       "      <td>26.070850</td>\n",
       "    </tr>\n",
       "    <tr>\n",
       "      <th>3</th>\n",
       "      <td>2</td>\n",
       "      <td>False</td>\n",
       "      <td>8.779500</td>\n",
       "      <td>3.190746</td>\n",
       "      <td>14.368254</td>\n",
       "    </tr>\n",
       "    <tr>\n",
       "      <th>4</th>\n",
       "      <td>3</td>\n",
       "      <td>True</td>\n",
       "      <td>5.402767</td>\n",
       "      <td>1.964250</td>\n",
       "      <td>8.841283</td>\n",
       "    </tr>\n",
       "    <tr>\n",
       "      <th>5</th>\n",
       "      <td>3</td>\n",
       "      <td>False</td>\n",
       "      <td>5.197962</td>\n",
       "      <td>1.829003</td>\n",
       "      <td>8.566921</td>\n",
       "    </tr>\n",
       "  </tbody>\n",
       "</table>\n",
       "</div>"
      ],
      "text/plain": [
       "  participant  conjunction  size_slope  conf_int_lower  conf_int_upper\n",
       "0           1         True   22.918066       16.653456       29.182675\n",
       "1           1        False    1.547780       -4.378091        7.473651\n",
       "2           2         True   18.272384       10.473917       26.070850\n",
       "3           2        False    8.779500        3.190746       14.368254\n",
       "4           3         True    5.402767        1.964250        8.841283\n",
       "5           3        False    5.197962        1.829003        8.566921"
      ]
     },
     "execution_count": 18,
     "metadata": {},
     "output_type": "execute_result"
    }
   ],
   "source": [
    "# Show regresion slopes for the `conjunction` and `feature` search.\n",
    "regresion_results_conj"
   ]
  },
  {
   "cell_type": "code",
   "execution_count": 19,
   "id": "69fec948-5467-4d02-b8d7-3db6ca806ef5",
   "metadata": {
    "tags": []
   },
   "outputs": [
    {
     "data": {
      "text/html": [
       "<div>\n",
       "<style scoped>\n",
       "    .dataframe tbody tr th:only-of-type {\n",
       "        vertical-align: middle;\n",
       "    }\n",
       "\n",
       "    .dataframe tbody tr th {\n",
       "        vertical-align: top;\n",
       "    }\n",
       "\n",
       "    .dataframe thead th {\n",
       "        text-align: right;\n",
       "    }\n",
       "</style>\n",
       "<table border=\"1\" class=\"dataframe\">\n",
       "  <thead>\n",
       "    <tr style=\"text-align: right;\">\n",
       "      <th></th>\n",
       "      <th>participant</th>\n",
       "      <th>target_present</th>\n",
       "      <th>size_slope</th>\n",
       "      <th>conf_int_lower</th>\n",
       "      <th>conf_int_upper</th>\n",
       "    </tr>\n",
       "  </thead>\n",
       "  <tbody>\n",
       "    <tr>\n",
       "      <th>0</th>\n",
       "      <td>1</td>\n",
       "      <td>True</td>\n",
       "      <td>6.851811</td>\n",
       "      <td>1.138925</td>\n",
       "      <td>12.564696</td>\n",
       "    </tr>\n",
       "    <tr>\n",
       "      <th>1</th>\n",
       "      <td>1</td>\n",
       "      <td>False</td>\n",
       "      <td>16.335790</td>\n",
       "      <td>8.297342</td>\n",
       "      <td>24.374238</td>\n",
       "    </tr>\n",
       "    <tr>\n",
       "      <th>2</th>\n",
       "      <td>2</td>\n",
       "      <td>True</td>\n",
       "      <td>5.215431</td>\n",
       "      <td>-1.463896</td>\n",
       "      <td>11.894758</td>\n",
       "    </tr>\n",
       "    <tr>\n",
       "      <th>3</th>\n",
       "      <td>2</td>\n",
       "      <td>False</td>\n",
       "      <td>21.750750</td>\n",
       "      <td>13.966373</td>\n",
       "      <td>29.535127</td>\n",
       "    </tr>\n",
       "    <tr>\n",
       "      <th>4</th>\n",
       "      <td>3</td>\n",
       "      <td>True</td>\n",
       "      <td>0.249232</td>\n",
       "      <td>-2.619145</td>\n",
       "      <td>3.117609</td>\n",
       "    </tr>\n",
       "    <tr>\n",
       "      <th>5</th>\n",
       "      <td>3</td>\n",
       "      <td>False</td>\n",
       "      <td>10.000655</td>\n",
       "      <td>6.654490</td>\n",
       "      <td>13.346819</td>\n",
       "    </tr>\n",
       "  </tbody>\n",
       "</table>\n",
       "</div>"
      ],
      "text/plain": [
       "  participant  target_present  size_slope  conf_int_lower  conf_int_upper\n",
       "0           1            True    6.851811        1.138925       12.564696\n",
       "1           1           False   16.335790        8.297342       24.374238\n",
       "2           2            True    5.215431       -1.463896       11.894758\n",
       "3           2           False   21.750750       13.966373       29.535127\n",
       "4           3            True    0.249232       -2.619145        3.117609\n",
       "5           3           False   10.000655        6.654490       13.346819"
      ]
     },
     "execution_count": 19,
     "metadata": {},
     "output_type": "execute_result"
    }
   ],
   "source": [
    "# Show regresion results for the target present or missing.\n",
    "regresion_results_target"
   ]
  },
  {
   "cell_type": "markdown",
   "id": "2b0dd165-498e-4669-ba43-cf1e69bba71e",
   "metadata": {},
   "source": [
    "For better undestanding of the results we also plot the regresion slopes with the confidence intervals 95% in the following part."
   ]
  },
  {
   "cell_type": "code",
   "execution_count": 20,
   "id": "26eb56ac-e9c1-41ae-bb63-ddb70b383b9b",
   "metadata": {
    "tags": []
   },
   "outputs": [],
   "source": [
    "def plot_size_slope(\n",
    "        data: pd.DataFrame,\n",
    "        hue_param: str,\n",
    "    ):\n",
    "    \n",
    "    is_conj_labels = {\n",
    "            True: \"conjunction\",\n",
    "            False: \"feature\",\n",
    "        }\n",
    "    \n",
    "    is_target_labels = {\n",
    "            True: \"present\",\n",
    "            False: \"not present\",\n",
    "        }\n",
    "    \n",
    "    select_legend = lambda x: is_conj_labels if x == \"conjunction\" else is_target_labels\n",
    "\n",
    "    title_label = {\n",
    "            \"conjunction\": \"for different search types\",\n",
    "            \"target_present\": \"based on the target presence\",\n",
    "        }\n",
    "    \n",
    "    legend_title = {\n",
    "        \"conjunction\": \"Search type\",\n",
    "        \"target_present\": \"Target present\",\n",
    "    }\n",
    "    \n",
    "    # Create labels for the plots.\n",
    "    hlp = data.copy()\n",
    "    hlp[hue_param] = hlp[hue_param].map(select_legend(hue_param)).astype(str)\n",
    "\n",
    "    # Rename the trials to \"{trial_number} : {task_type}\" (for plotting).\n",
    "    # hlp[\"trial\"] = after[\"trial\"] + \" : \" + after[\"task_type\"]\n",
    "\n",
    "    g = sns.pointplot(\n",
    "            data=hlp, \n",
    "            x=\"participant\", \n",
    "            y=\"size_slope\", \n",
    "            hue=hue_param,\n",
    "            join=False,\n",
    "            dodge=0.1,\n",
    "        )\n",
    "    \n",
    "    # Set title and axes labels.\n",
    "    g.set(\n",
    "        xlabel='Participant',\n",
    "        ylabel='Slope',\n",
    "        title=f\"Regresion slopes and its confidence intervals \\n{title_label[hue_param]}\"\n",
    "    )\n",
    "    \n",
    "    g.legend(title=legend_title[hue_param])\n",
    "    \n",
    "    # Get positions of the points to draw the confident intervals.\n",
    "    x_coords = []\n",
    "    y_coords = []\n",
    "    for point_pair in g.collections:\n",
    "        for x, y in point_pair.get_offsets():\n",
    "            x_coords.append(x)\n",
    "            y_coords.append(y)\n",
    "\n",
    "    # Calculate the confidence intervals as bar size.\n",
    "    confidence_intervals = [\n",
    "            [data.size_slope.mean()-data.conf_int_lower.min()],\n",
    "            [data.conf_int_upper.max()-data.size_slope.mean()]\n",
    "        ]\n",
    "\n",
    "    # Add confidence interval as lines into the plot.\n",
    "    g.errorbar(x_coords, y_coords, \n",
    "        yerr=confidence_intervals,\n",
    "        ecolor='black',\n",
    "        fmt=' ',\n",
    "        zorder=-1\n",
    "    )"
   ]
  },
  {
   "cell_type": "code",
   "execution_count": 21,
   "id": "7189cb72-7f08-4d06-a365-0c8828a37899",
   "metadata": {
    "tags": []
   },
   "outputs": [
    {
     "data": {
      "image/png": "[encoded data removed]",
      "text/plain": [
       "<Figure size 640x480 with 1 Axes>"
      ]
     },
     "metadata": {},
     "output_type": "display_data"
    }
   ],
   "source": [
    "plot_size_slope(regresion_results_conj, \"conjunction\")"
   ]
  },
  {
   "cell_type": "code",
   "execution_count": 22,
   "id": "c42ac57d-e082-4f91-98c3-b89e06c00fe1",
   "metadata": {
    "tags": []
   },
   "outputs": [
    {
     "data": {
      "image/png": "[encoded data removed]",
      "text/plain": [
       "<Figure size 640x480 with 1 Axes>"
      ]
     },
     "metadata": {},
     "output_type": "display_data"
    }
   ],
   "source": [
    "plot_size_slope(regresion_results_target, \"target_present\")"
   ]
  },
  {
   "cell_type": "markdown",
   "id": "81a3cf90-3aa1-4e86-a89b-6b5c32036017",
   "metadata": {},
   "source": [
    "# Conclusion\n",
    "\n",
    "Based on the results we can see that the `conjunction` task is in the most cases somehow harder search task than the `feature` task. We address this to more complex stimuli which the respondent has to process. Because there are different both color and orientation stimuli. This idea is supported by the average response times that are higher for the `conjunction` and also by the regression slopes that are also higher. The exceedingly high regresion slopes for the `conjuction` search means that the task is significantly more difficult with the increasing set size. On the other hand, in the `feature` search the set size is not as much important.\n",
    "\n",
    "When comparing the regresion slopes for target absent trials and trials containg targets, we may say that the difficulty of the target absent trials raises much faster in case of the needed response time. We address this to the need of checking all the objects in the picture in target absent trial. In contrast, in trials containing the target it is only necessary to check objects until we find the target object, which can last much shorther time interval. "
   ]
  }
 ],
 "metadata": {
  "kernelspec": {
   "display_name": "Python 3 (ipykernel)",
   "language": "python",
   "name": "python3"
  },
  "language_info": {
   "codemirror_mode": {
    "name": "ipython",
    "version": 3
   },
   "file_extension": ".py",
   "mimetype": "text/x-python",
   "name": "python",
   "nbconvert_exporter": "python",
   "pygments_lexer": "ipython3",
   "version": "3.11.2"
  }
 },
 "nbformat": 4,
 "nbformat_minor": 5
}
