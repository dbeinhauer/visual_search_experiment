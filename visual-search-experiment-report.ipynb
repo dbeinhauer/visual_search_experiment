{
 "cells": [
  {
   "cell_type": "raw",
   "id": "7a607b9b-3177-4daa-b745-967ec7a0fbcb",
   "metadata": {},
   "source": [
    "title: \"Informatics and Cognitive Science 1 - Visual Search Experiment\"\n",
    "author: David Beinhauer\n",
    "date: \"{{ datetime.now().strftime('%Y-%m-%d') }}\"\n",
    "output:\n",
    "    html:\n",
    "        toc: true\n",
    "        theme: sandstone"
   ]
  },
  {
   "cell_type": "markdown",
   "id": "9c221af4-bf86-41b0-a354-d141a177f5cc",
   "metadata": {},
   "source": [
    "# Introduction\n",
    "\n",
    "Visual search is the common task of looking for something in a cluttered visual environment. The searched item is usually called the target, other non-target items are\n",
    "called distractors. Many visual scenes contain more information than we can fully process all at once. This is the moment when the visual attention is essential. It is used to control the selection of the recognized objects. This selection could consist of objects, small groups of objects or even an array of locations. The selection periodicaly changes and usually consists of four to eight objects. \n",
    "\n",
    "The so called overt search refers to a series of eye movements around the scene made to bring the whole difficult-to-resolve item onto the fovea. On the other hand, if it is possible to identify the object during fixation the attention on a single point, the so called covert search happens (attentional shifts during a single fixation). Under dynamic real world conditions a new point of fixation is selected three to four times per second. However, under laboratory conditions, many search can be performed entirely with covert attention. \n",
    "\n",
    "The visual search experiment is a psychlological experiment used to analyze and study how the human visual search reacts on the specific stimuli in the visual scene. The experiment typicaly involves presenting a visual stimuli to a participant (picture, computer screen etc.). The stimuli typicaly contains number of objects. The participants are then asked to search for a specic target among the distractors (such as pink front slash as in our example). \n",
    "\n",
    "The researchers typicaly studied the effect of set size, target presence and homogeneity of the feature set on the accuracy and speed of the response."
   ]
  },
  {
   "cell_type": "markdown",
   "id": "eaba22d9-10d4-4810-a4a4-ceff9167c19c",
   "metadata": {},
   "source": [
    "# Experiment Description\n",
    "\n",
    "During the experiment we studied how the reaction time and accuracy of the responses of the respondents differ under different visual stimuli. \n",
    "\n",
    "# TODO: popis experimentu\n",
    "\n",
    "\n",
    "We recruited $N=3$ participants for the study. All the participants consisted of university male students in age range 22-23 years. The participants were seated in from of the notebook with 15.6 inch display with resolution 1920x1080 in a calm room. Then they were instructed to make themselves comfortable and turn off the notifications of their mobile phones. Afterwards, they were instructed about the experiment and performed the experiment. None of the participants did not need train trials or break. However, the participants were not fully concentrated during the first trial, so we decided to remove first 10 trials from the dataset."
   ]
  },
  {
   "cell_type": "code",
   "execution_count": null,
   "id": "7f35999b-460e-4f8f-832e-8998844e00d3",
   "metadata": {},
   "outputs": [],
   "source": []
  }
 ],
 "metadata": {
  "kernelspec": {
   "display_name": "Python 3 (ipykernel)",
   "language": "python",
   "name": "python3"
  },
  "language_info": {
   "codemirror_mode": {
    "name": "ipython",
    "version": 3
   },
   "file_extension": ".py",
   "mimetype": "text/x-python",
   "name": "python",
   "nbconvert_exporter": "python",
   "pygments_lexer": "ipython3",
   "version": "3.11.2"
  }
 },
 "nbformat": 4,
 "nbformat_minor": 5
}
